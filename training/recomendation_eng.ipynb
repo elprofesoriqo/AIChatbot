{
 "cells": [
  {
   "metadata": {},
   "cell_type": "markdown",
   "source": "## Init",
   "id": "75e5d1393c0f2c09"
  },
  {
   "cell_type": "code",
   "execution_count": null,
   "id": "initial_id",
   "metadata": {
    "collapsed": true
   },
   "outputs": [],
   "source": [
    "# !pip install mlxtend\n",
    "# !pip install pandas \n",
    "# !pip install pprintpp"
   ]
  },
  {
   "metadata": {},
   "cell_type": "code",
   "outputs": [],
   "execution_count": null,
   "source": [
    "import pandas as pd\n",
    "import numpy as np\n",
    "from mlxtend.frequent_patterns import association_rules, apriori"
   ],
   "id": "979c86f7fd9a59a3"
  },
  {
   "metadata": {},
   "cell_type": "markdown",
   "source": [
    "\n",
    "\n",
    "\n",
    "## Get data\n"
   ],
   "id": "7b1fe507a6ff6844"
  },
  {
   "metadata": {},
   "cell_type": "code",
   "outputs": [],
   "execution_count": null,
   "source": [
    "sales_reciepts = pd.read_csv ('data/201904 sales reciepts.csv')\n",
    "sales_reciepts.head()"
   ],
   "id": "9c697fbe4bb2d481"
  },
  {
   "metadata": {},
   "cell_type": "code",
   "outputs": [],
   "execution_count": null,
   "source": [
    "product = pd.read_csv ('data/product.csv')\n",
    "product.head()"
   ],
   "id": "a627e022d1242b9b"
  },
  {
   "metadata": {},
   "cell_type": "markdown",
   "source": [
    "\n",
    "\n",
    "## Data merging\n",
    "\n"
   ],
   "id": "582184ce31f1947c"
  },
  {
   "metadata": {},
   "cell_type": "code",
   "outputs": [],
   "execution_count": null,
   "source": [
    "dataset = pd.merge(sales_reciepts[['transaction_id','transaction_date', 'sales_outlet_id', 'customer_id', 'product_id', 'quantity']],\n",
    "                      product[['product_id', 'product_category', 'product']],\n",
    "                      on ='product_id', how = 'left' )\n",
    "dataset.head()"
   ],
   "id": "24de43949d5737bd"
  },
  {
   "metadata": {
    "ExecuteTime": {
     "end_time": "2024-10-27T11:05:30.358996Z",
     "start_time": "2024-10-27T11:05:30.356056Z"
    }
   },
   "cell_type": "code",
   "source": [
    "dataset[dataset['product'].str.contains('Dark chocolate')]['product'].unique()\n",
    "dataset['product'].nunique()\n",
    "dataset['product']= dataset['product'].str.replace(' Rg','')\n",
    "dataset['product']= dataset['product'].str.replace(' Sm','')\n",
    "dataset['product']= dataset['product'].str.replace(' Lg','')\n",
    "dataset['product'].nunique()"
   ],
   "id": "9d3b0fcfb62dc88b",
   "outputs": [],
   "execution_count": 3
  },
  {
   "metadata": {},
   "cell_type": "markdown",
   "source": "## Products subset\n",
   "id": "f29a7338a37861b2"
  },
  {
   "metadata": {},
   "cell_type": "code",
   "outputs": [],
   "execution_count": null,
   "source": [
    "products_to_take = ['Cappuccino', 'Latte', 'Espresso shot',  \\\n",
    "                     'Dark chocolate','Sugar Free Vanilla syrup', 'Chocolate syrup',\\\n",
    "                    'Carmel syrup', 'Hazelnut syrup', 'Ginger Scone',  \\\n",
    "                    'Chocolate Croissant', 'Jumbo Savory Scone', 'Cranberry Scone', 'Hazelnut Biscotti',\\\n",
    "                    'Croissant', 'Almond Croissant', 'Oatmeal Scone', 'Chocolate Chip Biscotti',\\\n",
    "                    'Ginger Biscotti',\\\n",
    "                   ]"
   ],
   "id": "51d301fc598b7d7f"
  },
  {
   "metadata": {},
   "cell_type": "code",
   "outputs": [],
   "execution_count": null,
   "source": [
    "dataset = dataset[dataset['product'].isin(products_to_take)]\n",
    "dataset['product'].nunique()"
   ],
   "id": "f2e89642087907e6"
  },
  {
   "metadata": {},
   "cell_type": "code",
   "outputs": [],
   "execution_count": null,
   "source": "dataset[['product','product_category']].drop_duplicates().reset_index(drop=True)",
   "id": "fb73a1c988ebfe56"
  },
  {
   "metadata": {},
   "cell_type": "markdown",
   "source": [
    "\n",
    "## Clean\n"
   ],
   "id": "7dedfdd454dd5506"
  },
  {
   "metadata": {},
   "cell_type": "code",
   "outputs": [],
   "execution_count": null,
   "source": "dataset['transaction'] = dataset['transaction_id'].astype(str) +\"_\"+  dataset['customer_id'].astype(str)",
   "id": "b718fa05397d834d"
  },
  {
   "metadata": {},
   "cell_type": "code",
   "outputs": [],
   "execution_count": null,
   "source": [
    "num_of_items_for_each_transaction = dataset['transaction'].value_counts().reset_index()\n",
    "valid_transactions = num_of_items_for_each_transaction[(num_of_items_for_each_transaction['count']>1)]['transaction'].tolist()\n",
    "dataset = dataset[dataset['transaction'].isin(valid_transactions)]\n",
    "dataset.shape\n"
   ],
   "id": "5b477b2e53843c66"
  },
  {
   "metadata": {},
   "cell_type": "markdown",
   "source": [
    "## Product Trends\n",
    "\n"
   ],
   "id": "2ec67e6daf3408a5"
  },
  {
   "metadata": {},
   "cell_type": "code",
   "outputs": [],
   "execution_count": null,
   "source": "dataset[\"product_category\"].value_counts()",
   "id": "9e9da98292099d86"
  },
  {
   "metadata": {},
   "cell_type": "code",
   "outputs": [],
   "execution_count": null,
   "source": "dataset['product'].value_counts()",
   "id": "585de7738d4bf2f3"
  },
  {
   "metadata": {},
   "cell_type": "markdown",
   "source": "",
   "id": "d397ef43b44badd3"
  },
  {
   "metadata": {},
   "cell_type": "markdown",
   "source": [
    "## Popularity Recommendation Engine\n",
    "\n"
   ],
   "id": "aa5e084b7f7dc466"
  },
  {
   "metadata": {},
   "cell_type": "code",
   "outputs": [],
   "execution_count": null,
   "source": [
    "popularity_recommendation = dataset.groupby(['product','product_category']).count().reset_index()\n",
    "popularity_recommendation = popularity_recommendation[['product','product_category','transaction_id']]\n",
    "popularity_recommendation = popularity_recommendation.rename(columns = {'transaction_id':'number_of_transactions'})\n",
    "popularity_recommendation.to_csv('api/recomend/popularity_recommendation.csv',index=False)"
   ],
   "id": "90281f17c2119f5f"
  },
  {
   "metadata": {},
   "cell_type": "markdown",
   "source": "## Apriori Recommendation Engine\n",
   "id": "6394c4325d97c15b"
  },
  {
   "metadata": {},
   "cell_type": "code",
   "outputs": [],
   "execution_count": null,
   "source": [
    "train_basket = (dataset.groupby(['transaction','product'])['product'].count().reset_index(name ='Count'))\n",
    "train_basket.head(10)"
   ],
   "id": "ebc06382c2230447"
  },
  {
   "metadata": {},
   "cell_type": "markdown",
   "source": "",
   "id": "4b5250167d61910a"
  },
  {
   "metadata": {},
   "cell_type": "code",
   "outputs": [],
   "execution_count": null,
   "source": [
    "my_basket = train_basket.pivot_table(index='transaction', columns='product', values='Count', aggfunc='sum').fillna(0)\n",
    "my_basket.head()"
   ],
   "id": "8b5e75dd9d17c91"
  },
  {
   "metadata": {},
   "cell_type": "code",
   "outputs": [],
   "execution_count": null,
   "source": [
    "def encode_units(x):\n",
    "  if x <= 0:\n",
    "    return 0\n",
    "  if x >= 0:\n",
    "    return 1\n",
    "\n",
    "my_basket_sets = my_basket.applymap(encode_units)\n",
    "my_basket_sets.head(10)"
   ],
   "id": "44ec11cea6d0f313"
  },
  {
   "metadata": {},
   "cell_type": "code",
   "outputs": [],
   "execution_count": null,
   "source": [
    "frequent_items = apriori(my_basket_sets, min_support = 0.05,use_colnames = True)\n",
    "frequent_items.head()"
   ],
   "id": "934811c76a92e1c5"
  },
  {
   "metadata": {},
   "cell_type": "code",
   "outputs": [],
   "execution_count": null,
   "source": [
    "rules_basket = association_rules(frequent_items, metric = \"lift\", min_threshold = 1)\n",
    "rules_basket.head()"
   ],
   "id": "75bbd0b3fc966a29"
  },
  {
   "metadata": {},
   "cell_type": "code",
   "outputs": [],
   "execution_count": null,
   "source": "rules_basket.to_pickle('rules_basket.pkl')\n",
   "id": "56eea40151eefa1f"
  },
  {
   "metadata": {},
   "cell_type": "code",
   "outputs": [],
   "execution_count": null,
   "source": "rules_basket[rules_basket['antecedents']=={'Latte'}].sort_values('confidence',ascending=False).head(50)\n",
   "id": "eba1dec741c6535f"
  },
  {
   "metadata": {},
   "cell_type": "markdown",
   "source": "## To JSON\n",
   "id": "2f9cd9fcc30dd9af"
  },
  {
   "metadata": {},
   "cell_type": "code",
   "outputs": [],
   "execution_count": null,
   "source": "product_categories = dataset[['product','product_category']].drop_duplicates().set_index('product').to_dict()['product_category']\n",
   "id": "d2e1abe765378cba"
  },
  {
   "metadata": {},
   "cell_type": "code",
   "outputs": [],
   "execution_count": null,
   "source": [
    "recommendations_json = {}\n",
    "\n",
    "antecedents = rules_basket['antecedents'].unique()\n",
    "for antecedent in antecedents:\n",
    "    df_rec = rules_basket[rules_basket['antecedents']==antecedent]\n",
    "    df_rec = df_rec.sort_values('confidence',ascending=False)\n",
    "    key = \"_\".join(antecedent)\n",
    "    recommendations_json[key] = []\n",
    "    for _, row in df_rec.iterrows():\n",
    "        rec_objects =row['consequents']\n",
    "        for rec_object in rec_objects:\n",
    "            already_exists = False\n",
    "            for current_rec_object in recommendations_json[key]:\n",
    "                if rec_object == current_rec_object['product']:\n",
    "                    already_exists=True\n",
    "            if already_exists:\n",
    "                continue\n",
    "            \n",
    "            rec = {'product':rec_object, \n",
    "                   'product_category':product_categories[rec_object],\n",
    "                   'confidence': row['confidence']\n",
    "                  }\n",
    "            recommendations_json[key].append(rec)"
   ],
   "id": "38700efb8779da80"
  },
  {
   "metadata": {},
   "cell_type": "code",
   "outputs": [],
   "execution_count": null,
   "source": [
    "import pprint\n",
    "pprint.pp(recommendations_json)"
   ],
   "id": "901e5b168c8dcdb8"
  },
  {
   "metadata": {},
   "cell_type": "code",
   "outputs": [],
   "execution_count": null,
   "source": [
    "import json\n",
    "with open('recomend/apriori_recommendations.json', 'w') as json_file:\n",
    "    json.dump(recommendations_json, json_file)"
   ],
   "id": "a23bcfd22da91bf9"
  }
 ],
 "metadata": {
  "kernelspec": {
   "display_name": "Python 3",
   "language": "python",
   "name": "python3"
  },
  "language_info": {
   "codemirror_mode": {
    "name": "ipython",
    "version": 2
   },
   "file_extension": ".py",
   "mimetype": "text/x-python",
   "name": "python",
   "nbconvert_exporter": "python",
   "pygments_lexer": "ipython2",
   "version": "2.7.6"
  }
 },
 "nbformat": 4,
 "nbformat_minor": 5
}
