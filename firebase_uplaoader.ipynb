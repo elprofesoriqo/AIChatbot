{
 "cells": [
  {
   "metadata": {},
   "cell_type": "markdown",
   "source": "## Init",
   "id": "2aad109675931542"
  },
  {
   "metadata": {
    "collapsed": true
   },
   "cell_type": "code",
   "outputs": [],
   "execution_count": null,
   "source": [
    "# !pip install firebase-admin\n",
    "# !pip install google-cloud-storage\n",
    "# !pip install python-dotenv\n",
    "# !pip install pandas"
   ],
   "id": "initial_id"
  },
  {
   "metadata": {},
   "cell_type": "code",
   "outputs": [],
   "execution_count": null,
   "source": [
    "import firebase_admin\n",
    "from firebase_admin import credentials, storage\n",
    "from firebase_admin import db\n",
    "import pandas as pd\n",
    "import os\n",
    "import dotenv\n",
    "dotenv.load_dotenv()"
   ],
   "id": "efb193fa921a3a31"
  },
  {
   "metadata": {},
   "cell_type": "markdown",
   "source": [
    "## Firebase Init\n",
    "\n"
   ],
   "id": "152cc0c5981748f0"
  },
  {
   "metadata": {},
   "cell_type": "code",
   "outputs": [],
   "execution_count": null,
   "source": [
    "service_account_info ={\n",
    "    \"type\": os.getenv('FIREBASE_TYPE'),\n",
    "    \"project_id\": os.getenv('FIREBASE_PROJECT_ID'),\n",
    "    \"private_key_id\": os.getenv('FIREBASE_PRIVATE_KEY_ID'),\n",
    "    \"private_key\": os.getenv('FIREBASE_PRIVATE_KEY'),\n",
    "    \"client_email\": os.getenv('FIREBASE_EMAIL'),\n",
    "    \"client_id\": os.getenv('FIREBASE_CLIENT_ID'),\n",
    "    \"auth_uri\": os.getenv('FIREBASE_AUTH_URL'),\n",
    "    \"token_uri\": os.getenv('FIREBASE_TOKEN'),\n",
    "    \"auth_provider_x509_cert_url\": os.getenv('FIREBASE_AUTH'),\n",
    "    \"client_x509_cert_url\": os.getenv('FIREBASE_AUTH_PROV'),\n",
    "    \"universe_domain\": os.getenv('FIREBASE_DOMAIN')\n",
    "  }"
   ],
   "id": "470395f1630d0b51"
  },
  {
   "metadata": {},
   "cell_type": "code",
   "outputs": [],
   "execution_count": null,
   "source": [
    "cred = credentials.Certificate(service_account_info)\n",
    "firebase_admin.initialize_app(cred,{\n",
    "    'storageBucket': 'gs://coffe-c20ba.appspot.com',\n",
    "     'databaseURL': 'https://coffe-c20ba-default-rtdb.europe-west1.firebasedatabase.app/'\n",
    "})"
   ],
   "id": "56431e30fdecb009"
  },
  {
   "metadata": {},
   "cell_type": "code",
   "outputs": [],
   "execution_count": null,
   "source": "bucket = storage.bucket()\n",
   "id": "84b4b9970677c282"
  },
  {
   "metadata": {},
   "cell_type": "markdown",
   "source": "",
   "id": "ff6d225577f4de68"
  },
  {
   "metadata": {},
   "cell_type": "markdown",
   "source": [
    "## Upload\n",
    "\n"
   ],
   "id": "7180228d96ee3112"
  },
  {
   "metadata": {},
   "cell_type": "code",
   "outputs": [],
   "execution_count": null,
   "source": [
    "image_folder_path = './products/images/'\n",
    "products_collection = db.reference('products')\n",
    "df = pd.read_json('products/products.jsonl',lines=True)\n",
    "df.head(2)"
   ],
   "id": "f9351d092b61971"
  },
  {
   "metadata": {},
   "cell_type": "code",
   "outputs": [],
   "execution_count": null,
   "source": [
    "def upload_image(bucket, image_path):\n",
    "    image_name = image_path.split('/')[-1]\n",
    "    blob = bucket.blob(f'product_images/{image_name}')\n",
    "    # Upload image\n",
    "    blob.upload_from_filename(image_path)\n",
    "    # Make the image publicly accessible and get its URL\n",
    "    blob.make_public()\n",
    "    return blob.public_url"
   ],
   "id": "6488c6838ee82f94"
  },
  {
   "metadata": {},
   "cell_type": "code",
   "outputs": [],
   "execution_count": null,
   "source": [
    "for index, row in df.iterrows():\n",
    "    print(index, row['name'])\n",
    "    \n",
    "    image_path = os.path.join(image_folder_path,row['image_path'])\n",
    "    \n",
    "    image_url = upload_image(bucket,image_path)\n",
    "    product_data = row.to_dict()\n",
    "    product_data.pop('image_path')\n",
    "    product_data['image_url']= image_url\n",
    "    \n",
    "    # Add to Firestore\n",
    "    products_collection.push().set(product_data)\n",
    "    "
   ],
   "id": "a74a533802e6ad73"
  }
 ],
 "metadata": {
  "kernelspec": {
   "display_name": "Python 3",
   "language": "python",
   "name": "python3"
  },
  "language_info": {
   "codemirror_mode": {
    "name": "ipython",
    "version": 2
   },
   "file_extension": ".py",
   "mimetype": "text/x-python",
   "name": "python",
   "nbconvert_exporter": "python",
   "pygments_lexer": "ipython2",
   "version": "2.7.6"
  }
 },
 "nbformat": 4,
 "nbformat_minor": 5
}
